{
 "cells": [
  {
   "metadata": {},
   "cell_type": "markdown",
   "source": [
    "# Setup-robot\n",
    "\n",
    "Ce programme permet d'aligner correctement le robot avec l'échiquier, en déplaçant correctement la table (ou le robot) lorsque ce dernier pointe vers différentes cases."
   ],
   "id": "f8c35f229db75980"
  },
  {
   "cell_type": "code",
   "id": "initial_id",
   "metadata": {
    "collapsed": true,
    "ExecuteTime": {
     "end_time": "2025-06-26T11:14:57.365472Z",
     "start_time": "2025-06-26T11:14:55.524025Z"
    }
   },
   "source": [
    "from chessEngine import ChessEngine\n",
    "from conf import STOCKFISH_PATH\n",
    "\n",
    "engine = ChessEngine(STOCKFISH_PATH)\n",
    "engine.robot.start()"
   ],
   "outputs": [
    {
     "name": "stdout",
     "output_type": "stream",
     "text": [
      "Lancement du robot, déplacement vers la case A1 et ouverture de la pince\n",
      "Start moving gripper.\n",
      "Fin de la procédure 'start'\n",
      "Lancement du robot, déplacement vers la case A1 et ouverture de la pince\n",
      "Start moving gripper.\n",
      "Fin de la procédure 'start'\n"
     ]
    }
   ],
   "execution_count": 2
  },
  {
   "metadata": {},
   "cell_type": "markdown",
   "source": "# Prise de la pièce",
   "id": "aab99ae44d6653a0"
  },
  {
   "metadata": {
    "ExecuteTime": {
     "end_time": "2025-06-26T11:15:00.445153Z",
     "start_time": "2025-06-26T11:14:59.390436Z"
    }
   },
   "cell_type": "code",
   "source": [
    "engine.robot.open_gripper()\n",
    "engine.robot.close_gripper()"
   ],
   "id": "f9640b81d5aeb786",
   "outputs": [
    {
     "name": "stdout",
     "output_type": "stream",
     "text": [
      "Start moving gripper.\n",
      "Start closing gripper.\n",
      "A motion is ongoing so new commands are not accepted.\n",
      "A motion is ongoing so new commands are not accepted.\n",
      "An internal- or external grip is detected.\n"
     ]
    }
   ],
   "execution_count": 3
  },
  {
   "metadata": {},
   "cell_type": "markdown",
   "source": "# Déplacement en `a1`",
   "id": "dab2aa34297edda4"
  },
  {
   "metadata": {
    "ExecuteTime": {
     "end_time": "2025-06-26T11:16:36.332987Z",
     "start_time": "2025-06-26T11:16:32.812418Z"
    }
   },
   "cell_type": "code",
   "source": [
    "engine.robot.coordinate.z = -0.220\n",
    "engine.robot.goToCase(\"a1\")"
   ],
   "id": "f8c2c54ca686536",
   "outputs": [
    {
     "name": "stdout",
     "output_type": "stream",
     "text": [
      "[0.539, 0.033]\n",
      "we go at [0.539, 0.033, -0.22, 2.32, -2.11, 0.0]\n",
      "[0.539, 0.033]\n"
     ]
    }
   ],
   "execution_count": 8
  },
  {
   "metadata": {},
   "cell_type": "markdown",
   "source": "# Déplacement en `a8`",
   "id": "5913ff3f2c487f53"
  },
  {
   "metadata": {
    "ExecuteTime": {
     "end_time": "2025-06-26T11:15:28.925221Z",
     "start_time": "2025-06-26T11:15:24.985849Z"
    }
   },
   "cell_type": "code",
   "source": "engine.robot.goToCase(\"a8\")",
   "id": "83010faa1f7a8903",
   "outputs": [
    {
     "name": "stdout",
     "output_type": "stream",
     "text": [
      "[0.539, -0.279]\n",
      "we go at [0.855, 0.033, -0.22, 2.32, -2.11, 0.0]\n",
      "[0.539, -0.279]\n"
     ]
    }
   ],
   "execution_count": 5
  },
  {
   "metadata": {},
   "cell_type": "markdown",
   "source": "# Déplacement en `h1`",
   "id": "5a7474f4a3ee38a5"
  },
  {
   "metadata": {
    "ExecuteTime": {
     "end_time": "2025-06-26T11:16:06.056216Z",
     "start_time": "2025-06-26T11:16:02.493604Z"
    }
   },
   "cell_type": "code",
   "source": "engine.robot.goToCase(\"h1\")",
   "id": "d60204ca86e73c21",
   "outputs": [
    {
     "name": "stdout",
     "output_type": "stream",
     "text": [
      "[0.855, 0.033]\n",
      "we go at [0.539, -0.279, -0.22, 2.32, -2.11, 0.0]\n",
      "[0.855, 0.033]\n"
     ]
    }
   ],
   "execution_count": 7
  }
 ],
 "metadata": {
  "kernelspec": {
   "display_name": "Python 3",
   "language": "python",
   "name": "python3"
  },
  "language_info": {
   "codemirror_mode": {
    "name": "ipython",
    "version": 2
   },
   "file_extension": ".py",
   "mimetype": "text/x-python",
   "name": "python",
   "nbconvert_exporter": "python",
   "pygments_lexer": "ipython2",
   "version": "2.7.6"
  }
 },
 "nbformat": 4,
 "nbformat_minor": 5
}
