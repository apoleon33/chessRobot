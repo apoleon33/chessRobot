{
 "cells": [
  {
   "metadata": {},
   "cell_type": "markdown",
   "source": [
    "# Setup-robot\n",
    "\n",
    "Ce programme permet d'aligner correctement le robot avec l'échiquier, en déplaçant correctement la table (ou le robot) lorsque ce dernier pointe vers différentes cases."
   ],
   "id": "f8c35f229db75980"
  },
  {
   "cell_type": "code",
   "id": "initial_id",
   "metadata": {
    "collapsed": true
   },
   "source": [
    "from chessEngine import ChessEngine\n",
    "from conf import STOCKFISH_PATH\n",
    "\n",
    "engine = ChessEngine(STOCKFISH_PATH)\n",
    "engine.robot.start()"
   ],
   "outputs": [],
   "execution_count": null
  },
  {
   "metadata": {},
   "cell_type": "markdown",
   "source": "# Prise de la pièce",
   "id": "aab99ae44d6653a0"
  },
  {
   "metadata": {},
   "cell_type": "code",
   "source": [
    "engine.robot.open_gripper()\n",
    "engine.robot.close_gripper()"
   ],
   "id": "f9640b81d5aeb786",
   "outputs": [],
   "execution_count": null
  },
  {
   "metadata": {},
   "cell_type": "markdown",
   "source": "# Déplacement en `a1`",
   "id": "dab2aa34297edda4"
  },
  {
   "metadata": {},
   "cell_type": "code",
   "source": [
    "engine.robot.coordinate.z = -0.220\n",
    "engine.robot.goToCase(\"a1\")"
   ],
   "id": "f8c2c54ca686536",
   "outputs": [],
   "execution_count": null
  },
  {
   "metadata": {},
   "cell_type": "markdown",
   "source": "# Déplacement en `a8`",
   "id": "5913ff3f2c487f53"
  },
  {
   "metadata": {},
   "cell_type": "code",
   "source": "engine.robot.goToCase(\"a8\")",
   "id": "83010faa1f7a8903",
   "outputs": [],
   "execution_count": null
  },
  {
   "metadata": {},
   "cell_type": "markdown",
   "source": "# Déplacement en `h1`",
   "id": "5a7474f4a3ee38a5"
  },
  {
   "metadata": {},
   "cell_type": "code",
   "source": "engine.robot.goToCase(\"h1\")",
   "id": "d60204ca86e73c21",
   "outputs": [],
   "execution_count": null
  }
 ],
 "metadata": {
  "kernelspec": {
   "display_name": "Python 3",
   "language": "python",
   "name": "python3"
  },
  "language_info": {
   "codemirror_mode": {
    "name": "ipython",
    "version": 2
   },
   "file_extension": ".py",
   "mimetype": "text/x-python",
   "name": "python",
   "nbconvert_exporter": "python",
   "pygments_lexer": "ipython2",
   "version": "2.7.6"
  }
 },
 "nbformat": 4,
 "nbformat_minor": 5
}
