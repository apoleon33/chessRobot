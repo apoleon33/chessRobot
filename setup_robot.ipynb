{
 "cells": [
  {
   "metadata": {},
   "cell_type": "markdown",
   "source": [
    "# Setup-robot\n",
    "\n",
    "Ce programme permet d'aligner correctement le robot avec l'échiquier, en déplaçant correctement la table (ou le robot) lorsque ce dernier pointe vers différentes cases."
   ],
   "id": "f8c35f229db75980"
  },
  {
   "cell_type": "code",
   "id": "initial_id",
   "metadata": {
    "collapsed": true,
    "ExecuteTime": {
     "end_time": "2025-06-25T08:55:31.963093Z",
     "start_time": "2025-06-25T08:55:27.398488Z"
    }
   },
   "source": [
    "from chessEngine import ChessEngine\n",
    "from conf import STOCKFISH_PATH_LINUX\n",
    "\n",
    "engine = ChessEngine(STOCKFISH_PATH_LINUX)\n",
    "engine.robot.start()"
   ],
   "outputs": [
    {
     "name": "stdout",
     "output_type": "stream",
     "text": [
      "Lancement du robot, déplacement vers la case A1 et ouverture de la pince\n",
      "Start moving gripper.\n",
      "A motion is ongoing so new commands are not accepted.\n",
      "A motion is ongoing so new commands are not accepted.\n",
      "Fin de la procédure 'start'\n",
      "Lancement du robot, déplacement vers la case A1 et ouverture de la pince\n",
      "Start moving gripper.\n",
      "Fin de la procédure 'start'\n"
     ]
    }
   ],
   "execution_count": 3
  },
  {
   "metadata": {},
   "cell_type": "markdown",
   "source": "# Prise de la pièce",
   "id": "aab99ae44d6653a0"
  },
  {
   "metadata": {},
   "cell_type": "code",
   "outputs": [],
   "execution_count": null,
   "source": [
    "engine.robot.open_gripper()\n",
    "engine.robot.close_gripper()"
   ],
   "id": "f9640b81d5aeb786"
  },
  {
   "metadata": {},
   "cell_type": "markdown",
   "source": "# Déplacement en `a1`",
   "id": "dab2aa34297edda4"
  },
  {
   "metadata": {},
   "cell_type": "code",
   "outputs": [],
   "execution_count": null,
   "source": [
    "engine.robot.coordinate.z = -0.220\n",
    "engine.robot.goToCase(\"a1\")"
   ],
   "id": "f8c2c54ca686536"
  },
  {
   "metadata": {},
   "cell_type": "markdown",
   "source": "# Déplacement en `a8`",
   "id": "5913ff3f2c487f53"
  },
  {
   "metadata": {},
   "cell_type": "code",
   "outputs": [],
   "execution_count": null,
   "source": "engine.robot.goToCase(\"a8\")",
   "id": "83010faa1f7a8903"
  },
  {
   "metadata": {},
   "cell_type": "markdown",
   "source": "# Déplacement en `h1`",
   "id": "5a7474f4a3ee38a5"
  },
  {
   "metadata": {},
   "cell_type": "code",
   "outputs": [],
   "execution_count": null,
   "source": "engine.robot.goToCase(\"h1\")",
   "id": "d60204ca86e73c21"
  }
 ],
 "metadata": {
  "kernelspec": {
   "display_name": "Python 3",
   "language": "python",
   "name": "python3"
  },
  "language_info": {
   "codemirror_mode": {
    "name": "ipython",
    "version": 2
   },
   "file_extension": ".py",
   "mimetype": "text/x-python",
   "name": "python",
   "nbconvert_exporter": "python",
   "pygments_lexer": "ipython2",
   "version": "2.7.6"
  }
 },
 "nbformat": 4,
 "nbformat_minor": 5
}
