{
 "cells": [
  {
   "metadata": {},
   "cell_type": "markdown",
   "source": [
    "\n",
    "# Robot-test\n",
    "\n",
    "## Imports utiles"
   ],
   "id": "89728644f5bcfeef"
  },
  {
   "cell_type": "code",
   "id": "initial_id",
   "metadata": {
    "collapsed": true,
    "ExecuteTime": {
     "end_time": "2025-06-10T21:25:23.549891Z",
     "start_time": "2025-06-10T21:25:23.388084Z"
    }
   },
   "source": [
    "from libs.gripper import RG\n",
    "import rtde_control\n",
    "from conf import *\n",
    "import time"
   ],
   "outputs": [],
   "execution_count": 1
  },
  {
   "metadata": {},
   "cell_type": "markdown",
   "source": "Test Pince",
   "id": "b036ad5f03b4a1a8"
  },
  {
   "metadata": {
    "ExecuteTime": {
     "end_time": "2025-06-10T21:25:24.954462Z",
     "start_time": "2025-06-10T21:25:23.946227Z"
    }
   },
   "cell_type": "code",
   "source": [
    "pince = RG(\n",
    "    gripper=GRIPPER_MODEL,\n",
    "    ip=GRIPPER_IP,\n",
    "    port=GRIPPER_PORT\n",
    ")\n",
    "\n",
    "# On vérifie que la pince n'est pas occupée\n",
    "if not pince.get_status()[0]:\n",
    "    pince.open_gripper()\n",
    "\n",
    "    # on s'assure que la pince a fini son déplacement avant d'envoyer une nouvelle commande\n",
    "    while pince.get_status()[0]:\n",
    "        time.sleep(0.5)\n",
    "\n",
    "    pince.close_gripper()\n",
    "\n",
    "    # on connait la musique\n",
    "    while pince.get_status()[0]:\n",
    "        time.sleep(0.5)\n"
   ],
   "id": "83951c5ff002dedf",
   "outputs": [],
   "execution_count": 2
  }
 ],
 "metadata": {
  "kernelspec": {
   "display_name": "Python 3",
   "language": "python",
   "name": "python3"
  },
  "language_info": {
   "codemirror_mode": {
    "name": "ipython",
    "version": 2
   },
   "file_extension": ".py",
   "mimetype": "text/x-python",
   "name": "python",
   "nbconvert_exporter": "python",
   "pygments_lexer": "ipython2",
   "version": "2.7.6"
  }
 },
 "nbformat": 4,
 "nbformat_minor": 5
}
